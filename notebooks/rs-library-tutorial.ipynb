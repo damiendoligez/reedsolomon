{
 "metadata": {
  "language": "ocaml",
  "name": ""
 },
 "nbformat": 3,
 "nbformat_minor": 0,
 "worksheets": [
  {
   "cells": [
    {
     "cell_type": "heading",
     "level": 1,
     "metadata": {},
     "source": [
      "Reed-solomon CODEC"
     ]
    },
    {
     "cell_type": "markdown",
     "metadata": {},
     "source": [
      "This notebook will describe a Reed-Solomon CODEC library for OCaml."
     ]
    },
    {
     "cell_type": "heading",
     "level": 2,
     "metadata": {},
     "source": [
      "Building"
     ]
    },
    {
     "cell_type": "markdown",
     "metadata": {},
     "source": [
      "```bash\n",
      "$ make\n",
      "$ make install\n",
      "```"
     ]
    },
    {
     "cell_type": "heading",
     "level": 2,
     "metadata": {},
     "source": [
      "Library structure"
     ]
    },
    {
     "cell_type": "markdown",
     "metadata": {},
     "source": [
      "* `Ops` - interface for basic mathematical operations.\n",
      "* `Poly, Matrix` - polynomial and matrix operations\n",
      "* `Galois` - galois field arithmetic operations, including extension fields\n",
      "* `Rs` - high level Reed-Solomon CODEC implementation"
     ]
    },
    {
     "cell_type": "heading",
     "level": 2,
     "metadata": {},
     "source": [
      "Using the library"
     ]
    },
    {
     "cell_type": "code",
     "collapsed": false,
     "input": [
      "#require \"reedsolomon\""
     ],
     "language": "python",
     "metadata": {},
     "outputs": [
      {
       "output_type": "stream",
       "stream": "stderr",
       "text": [
        "/home/andyman/.opam/4.01.0/lib/reedsolomon: added to search path\n",
        "/home/andyman/.opam/4.01.0/lib/reedsolomon/reedsolomon.cma: loaded\n"
       ]
      },
      {
       "output_type": "stream",
       "stream": "stdout",
       "text": []
      }
     ],
     "prompt_number": 1
    },
    {
     "cell_type": "markdown",
     "metadata": {},
     "source": [
      "The `Rs` module defines a few pre-built standards.  For now we will use `BBCTest` which describes the RS code from this excellent [whitepaper](http://www.bbc.co.uk/rd/publications/whitepaper031)."
     ]
    },
    {
     "cell_type": "code",
     "collapsed": false,
     "input": [
      "module X = Rs.BBCTest"
     ],
     "language": "python",
     "metadata": {},
     "outputs": [
      {
       "output_type": "stream",
       "stream": "stdout",
       "text": [
        "module X :\n",
        "  sig\n",
        "    module Gp : sig val pp : int val pe : int end\n",
        "    module G :\n",
        "      sig\n",
        "        type t = int\n",
        "        val zero : t\n",
        "        val one : t\n",
        "        val ( +: ) : t -> t -> t\n",
        "        val ( -: ) : t -> t -> t\n",
        "        val to_string : t -> string\n",
        "        val alpha : t\n",
        "        val n_elems : int\n",
        "        val log : t -> int\n",
        "        val antilog : int -> t\n",
        "        val ( *: ) : t -> t -> t\n",
        "        val ( /: ) : t -> t -> t\n",
        "        val ( **: ) : t -> int -> t\n",
        "        val inv : t -> t\n",
        "      end\n",
        "    module Rp : sig val k : int val t : int val b : int end\n",
        "    module R :\n",
        "      sig\n",
        "        type elt = int\n",
        "        module M :\n",
        "          sig\n",
        "            type t = elt\n",
        "            type matrix = t array array\n",
        "            val rows : matrix -> int\n",
        "            val cols : matrix -> int\n",
        "            val init : int -> int -> (int -> int -> t) -> matrix\n",
        "            val create : int -> int -> matrix\n",
        "            val copy : matrix -> matrix\n",
        "            val identity : int -> matrix\n",
        "            val transpose : matrix -> matrix\n",
        "            val map : (t -> t) -> matrix -> matrix\n",
        "            val map2 : (t -> t -> t) -> matrix -> matrix -> matrix\n",
        "            val row_vector : t array -> matrix\n",
        "            val col_vector : t array -> matrix\n",
        "            val ( >> ) : matrix -> matrix -> matrix\n",
        "            val ( ^^ ) : matrix -> matrix -> matrix\n",
        "            val sub : int -> int -> int -> int -> matrix -> matrix\n",
        "            val ( +: ) : matrix -> matrix -> matrix\n",
        "            val ( -: ) : matrix -> matrix -> matrix\n",
        "            val ( *: ) : matrix -> matrix -> matrix\n",
        "            val ( *:. ) : matrix -> t -> matrix\n",
        "            val minor : int -> int -> matrix -> matrix\n",
        "            val det : matrix -> t\n",
        "            val adjoint_inverse : matrix -> t * matrix\n",
        "            val gauss_jordan : matrix -> matrix\n",
        "            val gauss_jordan_inverse : matrix -> matrix\n",
        "            module Row :\n",
        "              sig\n",
        "                val swap : int -> int -> int -> matrix\n",
        "                val mult : int -> int -> t -> matrix\n",
        "                val madd : int -> int -> int -> t -> matrix\n",
        "              end\n",
        "          end\n",
        "        module R :\n",
        "          sig\n",
        "            type elt = elt\n",
        "            type t = elt array\n",
        "            val degree : t -> int\n",
        "            val zero : t\n",
        "            val one : t\n",
        "            val x : t\n",
        "            val to_poly : elt array -> t\n",
        "            val of_poly : t -> elt array\n",
        "            val copy : t -> t\n",
        "            type poly_format =\n",
        "              Rs.BBCTest.R.R.poly_format = {\n",
        "              coef : elt -> string;\n",
        "              indet : int -> string;\n",
        "            }\n",
        "            val poly_format : poly_format\n",
        "            val string_format : bool -> poly_format -> int -> elt -> string\n",
        "            val to_string :\n",
        "              ?down:bool -> ?str:(int -> elt -> string) -> t -> string\n",
        "            val trim : t -> t\n",
        "            val slice : t -> int -> t\n",
        "            val ( +: ) : t -> t -> t\n",
        "            val ( -: ) : t -> t -> t\n",
        "            val ( *: ) : t -> t -> t\n",
        "            val ( /: ) : t -> t -> t * t\n",
        "            val ( *:. ) : t -> elt -> t\n",
        "            val ( /:. ) : t -> elt -> t\n",
        "            val ( ^: ) : t -> int -> t\n",
        "            val ( **: ) : t -> int -> t\n",
        "            val ext_gcd : t -> t -> t * t\n",
        "            val eval : t -> elt -> elt\n",
        "          end\n",
        "        type poly = R.t\n",
        "        type loc = int\n",
        "        val root : int -> elt\n",
        "        val generator : poly\n",
        "        val xn : int -> poly\n",
        "        val x2t : poly\n",
        "        val parity : poly -> poly\n",
        "        val encode : poly -> poly\n",
        "        val horner : poly -> elt -> elt\n",
        "        val syndromes : poly -> poly\n",
        "        val key_equations : poly -> int -> M.matrix * M.matrix\n",
        "        val solve_key_equations : M.matrix * M.matrix -> M.matrix\n",
        "        val peterson : poly -> poly\n",
        "        val euclid_inner : poly * poly -> poly * poly -> poly * poly\n",
        "        val euclid : ?norm:bool -> ?lim:int -> poly -> poly * poly\n",
        "        val berlekamp_massey_iter :\n",
        "          poly -> int -> poly * poly * int -> poly * poly * int\n",
        "        val berlekamp_massey : poly -> poly\n",
        "        module Sarwate :\n",
        "          sig\n",
        "            val iBM : poly -> poly\n",
        "            val riBM : poly -> poly * poly\n",
        "            val rriBM : poly -> poly * poly\n",
        "            val forney : poly -> poly -> loc -> elt\n",
        "          end\n",
        "        val chien : poly -> loc list\n",
        "        val error_location : loc -> int\n",
        "        val error_magnitude : int -> poly -> poly -> poly\n",
        "        val deriv : poly -> poly\n",
        "        val forney : poly -> poly -> loc -> elt\n",
        "        val error : elt list -> loc list -> poly\n",
        "        val correct : poly -> poly -> poly\n",
        "        val decode_euclid : poly -> poly\n",
        "        val decode_berlekamp_massey : poly -> poly\n",
        "        val decode_peterson : poly -> poly\n",
        "        val decode : poly -> poly\n",
        "        val erasure_locator : int list -> poly\n",
        "        val zero_erasures : poly -> int list -> poly\n",
        "        val error_and_erasure :\n",
        "          elt list -> loc list -> elt list -> loc list -> poly\n",
        "        val decode_erasures_euclid : poly -> int list -> poly\n",
        "        val decode_erasures : poly -> int list -> poly\n",
        "        val decode_errors_and_erasures_euclid : poly -> int list -> poly\n",
        "        val decode_errors_and_erasures_berlekamp_massey :\n",
        "          poly -> int list -> poly\n",
        "        val decode_errors_and_erasures : poly -> int list -> poly\n",
        "      end\n",
        "  end\n"
       ]
      }
     ],
     "prompt_number": 2
    },
    {
     "cell_type": "markdown",
     "metadata": {},
     "source": [
      "There are 4 modules defined therein;\n",
      "\n",
      "* `Gp` - parameters for the Galois field\n",
      "* `G` - Galois field implementation\n",
      "* `Rp` - parameters for the RS CODEC\n",
      "* `R` - Reed-Solomon CODEC implemention\n",
      "\n",
      "Lets look at some of those parameters."
     ]
    },
    {
     "cell_type": "code",
     "collapsed": false,
     "input": [
      "let pp, pe = X.Gp.pp, X.Gp.pe"
     ],
     "language": "python",
     "metadata": {},
     "outputs": [
      {
       "output_type": "stream",
       "stream": "stdout",
       "text": [
        "val pp : int = 19\n",
        "val pe : int = 2\n"
       ]
      }
     ],
     "prompt_number": 3
    },
    {
     "cell_type": "markdown",
     "metadata": {},
     "source": [
      "* pp - primtive polynomial of galois field\n",
      "* pe - primtive element of galois field"
     ]
    },
    {
     "cell_type": "code",
     "collapsed": false,
     "input": [
      "let k, t = X.Rp.k, X.Rp.t\n",
      "let n = k + (2*t)"
     ],
     "language": "python",
     "metadata": {},
     "outputs": [
      {
       "output_type": "stream",
       "stream": "stdout",
       "text": [
        "val k : int = 11\n",
        "val t : int = 2\n",
        "val n : int = 15\n"
       ]
      }
     ],
     "prompt_number": 4
    },
    {
     "cell_type": "markdown",
     "metadata": {},
     "source": [
      "* `k` - number of symbols in a message\n",
      "* `t` - error correction capability\n",
      "* `n` - code word size"
     ]
    },
    {
     "cell_type": "heading",
     "level": 2,
     "metadata": {},
     "source": [
      "Galois field elements"
     ]
    },
    {
     "cell_type": "code",
     "collapsed": false,
     "input": [
      "let number_of_field_elements = X.G.n_elems"
     ],
     "language": "python",
     "metadata": {},
     "outputs": [
      {
       "output_type": "stream",
       "stream": "stdout",
       "text": [
        "val number_of_field_elements : int = 16\n"
       ]
      }
     ],
     "prompt_number": 5
    },
    {
     "cell_type": "markdown",
     "metadata": {},
     "source": [
      "This tells us something about the Galois field - specifically that it has 16 elements.  They are represented by integers in the range 0 to 15.\n",
      "\n",
      "We can do arithmetic operations over the field using the functions in `X.G`. "
     ]
    },
    {
     "cell_type": "code",
     "collapsed": false,
     "input": [
      "(* utility function to display a html table *)\n",
      "let table rows cols f =\n",
      "    let tag x s = \"<\" ^ x ^ \">\" ^ s ^ \"</\" ^ x ^ \">\" in\n",
      "    let concat x s = s |> Array.map (tag x) |> Array.to_list |> String.concat \"\" in\n",
      "    let init n x f = Array.init n f |> concat x in\n",
      "    Iocaml.display \"text/html\" \n",
      "        (\"<table>\" ^ (init rows \"tr\" (fun row -> init cols \"td\" (f row))) ^ \"</table>\")"
     ],
     "language": "python",
     "metadata": {},
     "outputs": [
      {
       "output_type": "stream",
       "stream": "stdout",
       "text": [
        "val table : int -> int -> (int -> int -> string) -> unit = <fun>\n"
       ]
      }
     ],
     "prompt_number": 6
    },
    {
     "cell_type": "code",
     "collapsed": false,
     "input": [
      "table 16 16 (fun i j -> X.G.(to_string (i +: j)))"
     ],
     "language": "python",
     "metadata": {},
     "outputs": [
      {
       "html": [
        "<table><tr><td>0</td><td>1</td><td>2</td><td>3</td><td>4</td><td>5</td><td>6</td><td>7</td><td>8</td><td>9</td><td>10</td><td>11</td><td>12</td><td>13</td><td>14</td><td>15</td></tr><tr><td>1</td><td>0</td><td>3</td><td>2</td><td>5</td><td>4</td><td>7</td><td>6</td><td>9</td><td>8</td><td>11</td><td>10</td><td>13</td><td>12</td><td>15</td><td>14</td></tr><tr><td>2</td><td>3</td><td>0</td><td>1</td><td>6</td><td>7</td><td>4</td><td>5</td><td>10</td><td>11</td><td>8</td><td>9</td><td>14</td><td>15</td><td>12</td><td>13</td></tr><tr><td>3</td><td>2</td><td>1</td><td>0</td><td>7</td><td>6</td><td>5</td><td>4</td><td>11</td><td>10</td><td>9</td><td>8</td><td>15</td><td>14</td><td>13</td><td>12</td></tr><tr><td>4</td><td>5</td><td>6</td><td>7</td><td>0</td><td>1</td><td>2</td><td>3</td><td>12</td><td>13</td><td>14</td><td>15</td><td>8</td><td>9</td><td>10</td><td>11</td></tr><tr><td>5</td><td>4</td><td>7</td><td>6</td><td>1</td><td>0</td><td>3</td><td>2</td><td>13</td><td>12</td><td>15</td><td>14</td><td>9</td><td>8</td><td>11</td><td>10</td></tr><tr><td>6</td><td>7</td><td>4</td><td>5</td><td>2</td><td>3</td><td>0</td><td>1</td><td>14</td><td>15</td><td>12</td><td>13</td><td>10</td><td>11</td><td>8</td><td>9</td></tr><tr><td>7</td><td>6</td><td>5</td><td>4</td><td>3</td><td>2</td><td>1</td><td>0</td><td>15</td><td>14</td><td>13</td><td>12</td><td>11</td><td>10</td><td>9</td><td>8</td></tr><tr><td>8</td><td>9</td><td>10</td><td>11</td><td>12</td><td>13</td><td>14</td><td>15</td><td>0</td><td>1</td><td>2</td><td>3</td><td>4</td><td>5</td><td>6</td><td>7</td></tr><tr><td>9</td><td>8</td><td>11</td><td>10</td><td>13</td><td>12</td><td>15</td><td>14</td><td>1</td><td>0</td><td>3</td><td>2</td><td>5</td><td>4</td><td>7</td><td>6</td></tr><tr><td>10</td><td>11</td><td>8</td><td>9</td><td>14</td><td>15</td><td>12</td><td>13</td><td>2</td><td>3</td><td>0</td><td>1</td><td>6</td><td>7</td><td>4</td><td>5</td></tr><tr><td>11</td><td>10</td><td>9</td><td>8</td><td>15</td><td>14</td><td>13</td><td>12</td><td>3</td><td>2</td><td>1</td><td>0</td><td>7</td><td>6</td><td>5</td><td>4</td></tr><tr><td>12</td><td>13</td><td>14</td><td>15</td><td>8</td><td>9</td><td>10</td><td>11</td><td>4</td><td>5</td><td>6</td><td>7</td><td>0</td><td>1</td><td>2</td><td>3</td></tr><tr><td>13</td><td>12</td><td>15</td><td>14</td><td>9</td><td>8</td><td>11</td><td>10</td><td>5</td><td>4</td><td>7</td><td>6</td><td>1</td><td>0</td><td>3</td><td>2</td></tr><tr><td>14</td><td>15</td><td>12</td><td>13</td><td>10</td><td>11</td><td>8</td><td>9</td><td>6</td><td>7</td><td>4</td><td>5</td><td>2</td><td>3</td><td>0</td><td>1</td></tr><tr><td>15</td><td>14</td><td>13</td><td>12</td><td>11</td><td>10</td><td>9</td><td>8</td><td>7</td><td>6</td><td>5</td><td>4</td><td>3</td><td>2</td><td>1</td><td>0</td></tr></table>"
       ],
       "metadata": {},
       "output_type": "display_data"
      },
      {
       "output_type": "stream",
       "stream": "stdout",
       "text": [
        "- : unit = ()\n"
       ]
      }
     ],
     "prompt_number": 7
    },
    {
     "cell_type": "code",
     "collapsed": false,
     "input": [
      "table 16 16 (fun i j -> X.G.(to_string (i *: j)))"
     ],
     "language": "python",
     "metadata": {},
     "outputs": [
      {
       "html": [
        "<table><tr><td>0</td><td>0</td><td>0</td><td>0</td><td>0</td><td>0</td><td>0</td><td>0</td><td>0</td><td>0</td><td>0</td><td>0</td><td>0</td><td>0</td><td>0</td><td>0</td></tr><tr><td>0</td><td>1</td><td>2</td><td>3</td><td>4</td><td>5</td><td>6</td><td>7</td><td>8</td><td>9</td><td>10</td><td>11</td><td>12</td><td>13</td><td>14</td><td>15</td></tr><tr><td>0</td><td>2</td><td>4</td><td>6</td><td>8</td><td>10</td><td>12</td><td>14</td><td>3</td><td>1</td><td>7</td><td>5</td><td>11</td><td>9</td><td>15</td><td>13</td></tr><tr><td>0</td><td>3</td><td>6</td><td>5</td><td>12</td><td>15</td><td>10</td><td>9</td><td>11</td><td>8</td><td>13</td><td>14</td><td>7</td><td>4</td><td>1</td><td>2</td></tr><tr><td>0</td><td>4</td><td>8</td><td>12</td><td>3</td><td>7</td><td>11</td><td>15</td><td>6</td><td>2</td><td>14</td><td>10</td><td>5</td><td>1</td><td>13</td><td>9</td></tr><tr><td>0</td><td>5</td><td>10</td><td>15</td><td>7</td><td>2</td><td>13</td><td>8</td><td>14</td><td>11</td><td>4</td><td>1</td><td>9</td><td>12</td><td>3</td><td>6</td></tr><tr><td>0</td><td>6</td><td>12</td><td>10</td><td>11</td><td>13</td><td>7</td><td>1</td><td>5</td><td>3</td><td>9</td><td>15</td><td>14</td><td>8</td><td>2</td><td>4</td></tr><tr><td>0</td><td>7</td><td>14</td><td>9</td><td>15</td><td>8</td><td>1</td><td>6</td><td>13</td><td>10</td><td>3</td><td>4</td><td>2</td><td>5</td><td>12</td><td>11</td></tr><tr><td>0</td><td>8</td><td>3</td><td>11</td><td>6</td><td>14</td><td>5</td><td>13</td><td>12</td><td>4</td><td>15</td><td>7</td><td>10</td><td>2</td><td>9</td><td>1</td></tr><tr><td>0</td><td>9</td><td>1</td><td>8</td><td>2</td><td>11</td><td>3</td><td>10</td><td>4</td><td>13</td><td>5</td><td>12</td><td>6</td><td>15</td><td>7</td><td>14</td></tr><tr><td>0</td><td>10</td><td>7</td><td>13</td><td>14</td><td>4</td><td>9</td><td>3</td><td>15</td><td>5</td><td>8</td><td>2</td><td>1</td><td>11</td><td>6</td><td>12</td></tr><tr><td>0</td><td>11</td><td>5</td><td>14</td><td>10</td><td>1</td><td>15</td><td>4</td><td>7</td><td>12</td><td>2</td><td>9</td><td>13</td><td>6</td><td>8</td><td>3</td></tr><tr><td>0</td><td>12</td><td>11</td><td>7</td><td>5</td><td>9</td><td>14</td><td>2</td><td>10</td><td>6</td><td>1</td><td>13</td><td>15</td><td>3</td><td>4</td><td>8</td></tr><tr><td>0</td><td>13</td><td>9</td><td>4</td><td>1</td><td>12</td><td>8</td><td>5</td><td>2</td><td>15</td><td>11</td><td>6</td><td>3</td><td>14</td><td>10</td><td>7</td></tr><tr><td>0</td><td>14</td><td>15</td><td>1</td><td>13</td><td>3</td><td>2</td><td>12</td><td>9</td><td>7</td><td>6</td><td>8</td><td>4</td><td>10</td><td>11</td><td>5</td></tr><tr><td>0</td><td>15</td><td>13</td><td>2</td><td>9</td><td>6</td><td>4</td><td>11</td><td>1</td><td>14</td><td>12</td><td>3</td><td>8</td><td>7</td><td>5</td><td>10</td></tr></table>"
       ],
       "metadata": {},
       "output_type": "display_data"
      },
      {
       "output_type": "stream",
       "stream": "stdout",
       "text": [
        "- : unit = ()\n"
       ]
      }
     ],
     "prompt_number": 8
    },
    {
     "cell_type": "code",
     "collapsed": false,
     "input": [
      "table 1 16 (fun _ i -> X.G.(to_string (inv i)))"
     ],
     "language": "python",
     "metadata": {},
     "outputs": [
      {
       "html": [
        "<table><tr><td>0</td><td>1</td><td>9</td><td>14</td><td>13</td><td>11</td><td>7</td><td>6</td><td>15</td><td>2</td><td>12</td><td>5</td><td>10</td><td>4</td><td>3</td><td>8</td></tr></table>"
       ],
       "metadata": {},
       "output_type": "display_data"
      },
      {
       "output_type": "stream",
       "stream": "stdout",
       "text": [
        "- : unit = ()\n"
       ]
      }
     ],
     "prompt_number": 9
    },
    {
     "cell_type": "heading",
     "level": 2,
     "metadata": {},
     "source": [
      "Polynomials"
     ]
    },
    {
     "cell_type": "markdown",
     "metadata": {},
     "source": [
      "The `Poly` module represents polynomials as arrays of coefficients.  The coefficient type is generic and provided as an argument to the Poly.Make functor.\n",
      "\n",
      "The indices of the array give the power of the indeterminate.  For example"
     ]
    },
    {
     "cell_type": "code",
     "collapsed": false,
     "input": [
      "module IPoly = Poly.Make(Ops.Int)"
     ],
     "language": "python",
     "metadata": {},
     "outputs": [
      {
       "output_type": "stream",
       "stream": "stdout",
       "text": [
        "module IPoly :\n",
        "  sig\n",
        "    type elt = Ops.Int.t\n",
        "    type t = Ops.Int.t array\n",
        "    val degree : t -> int\n",
        "    val zero : t\n",
        "    val one : t\n",
        "    val x : t\n",
        "    val to_poly : elt array -> t\n",
        "    val of_poly : t -> elt array\n",
        "    val copy : t -> t\n",
        "    type poly_format =\n",
        "      Poly.Make(Ops.Int).poly_format = {\n",
        "      coef : elt -> string;\n",
        "      indet : int -> string;\n",
        "    }\n",
        "    val poly_format : poly_format\n",
        "    val string_format : bool -> poly_format -> int -> elt -> string\n",
        "    val to_string : ?down:bool -> ?str:(int -> elt -> string) -> t -> string\n",
        "    val trim : t -> t\n",
        "    val slice : t -> int -> t\n",
        "    val ( +: ) : t -> t -> t\n",
        "    val ( -: ) : t -> t -> t\n",
        "    val ( *: ) : t -> t -> t\n",
        "    val ( /: ) : t -> t -> t * t\n",
        "    val ( *:. ) : t -> elt -> t\n",
        "    val ( /:. ) : t -> elt -> t\n",
        "    val ( ^: ) : t -> int -> t\n",
        "    val ( **: ) : t -> int -> t\n",
        "    val ext_gcd : t -> t -> t * t\n",
        "    val eval : t -> elt -> elt\n",
        "  end\n"
       ]
      }
     ],
     "prompt_number": 10
    },
    {
     "cell_type": "code",
     "collapsed": false,
     "input": [
      "(* display poly *)\n",
      "let display_poly poly = \n",
      "    (* modifiy printing a little to suit mathjax *)\n",
      "    let str = X.R.R.(string_format true \n",
      "        { poly_format with \n",
      "            indet = function 0 -> \"\" | 1 -> \"x\" | _ as n -> \"x^{\" ^ string_of_int n ^ \"}\"; }) in\n",
      "    Iocaml.display \"text/html\" (\"$$\" ^ X.R.R.to_string ~str:str poly ^ \"$$\")"
     ],
     "language": "python",
     "metadata": {},
     "outputs": [
      {
       "output_type": "stream",
       "stream": "stdout",
       "text": [
        "val display_poly : X.R.R.t -> unit = <fun>\n"
       ]
      }
     ],
     "prompt_number": 11
    },
    {
     "cell_type": "code",
     "collapsed": false,
     "input": [
      "let f,g = [| 7; 3 |], [| 4; 0; 2 |]"
     ],
     "language": "python",
     "metadata": {},
     "outputs": [
      {
       "output_type": "stream",
       "stream": "stdout",
       "text": [
        "val f : int array = [|7; 3|]\n",
        "val g : int array = [|4; 0; 2|]\n"
       ]
      }
     ],
     "prompt_number": 12
    },
    {
     "cell_type": "code",
     "collapsed": false,
     "input": [
      "display_poly f;;\n",
      "display_poly g;;"
     ],
     "language": "python",
     "metadata": {},
     "outputs": [
      {
       "html": [
        "$$3.x + 7$$"
       ],
       "metadata": {},
       "output_type": "display_data"
      },
      {
       "html": [
        "$$2.x^{2} + 4$$"
       ],
       "metadata": {},
       "output_type": "display_data"
      },
      {
       "output_type": "stream",
       "stream": "stdout",
       "text": [
        "- : unit = ()\n",
        "- : unit = ()\n"
       ]
      }
     ],
     "prompt_number": 13
    },
    {
     "cell_type": "code",
     "collapsed": false,
     "input": [
      "display_poly IPoly.(f *: g)"
     ],
     "language": "python",
     "metadata": {},
     "outputs": [
      {
       "html": [
        "$$6.x^{3} + 14.x^{2} + 12.x + 28$$"
       ],
       "metadata": {},
       "output_type": "display_data"
      },
      {
       "output_type": "stream",
       "stream": "stdout",
       "text": [
        "- : unit = ()\n"
       ]
      }
     ],
     "prompt_number": 14
    },
    {
     "cell_type": "heading",
     "level": 2,
     "metadata": {},
     "source": [
      "More on Galois fields"
     ]
    },
    {
     "cell_type": "markdown",
     "metadata": {},
     "source": [
      "The `Galois` module is actually quite general and can implement the fields in different ways.  Indeed the integer representation above is actually derived from a lower level version based on polynomials over GF2."
     ]
    },
    {
     "cell_type": "code",
     "collapsed": false,
     "input": [
      "table 2 2 (fun i j -> Galois.Primitive.GF2.(to_string (i +: j)));;\n",
      "table 2 2 (fun i j -> Galois.Primitive.GF2.(to_string (i *: j)));;"
     ],
     "language": "python",
     "metadata": {},
     "outputs": [
      {
       "html": [
        "<table><tr><td>0</td><td>1</td></tr><tr><td>1</td><td>0</td></tr></table>"
       ],
       "metadata": {},
       "output_type": "display_data"
      },
      {
       "html": [
        "<table><tr><td>0</td><td>0</td></tr><tr><td>0</td><td>1</td></tr></table>"
       ],
       "metadata": {},
       "output_type": "display_data"
      },
      {
       "output_type": "stream",
       "stream": "stdout",
       "text": [
        "- : unit = ()\n",
        "- : unit = ()\n"
       ]
      }
     ],
     "prompt_number": 15
    },
    {
     "cell_type": "code",
     "collapsed": false,
     "input": [
      "module GFPoly = Galois.Extension.Make(struct \n",
      "    module Poly = Poly.Make(Galois.Primitive.GF2)\n",
      "    let pp = [| 1; 1; 0; 0; 1 |]\n",
      "end)"
     ],
     "language": "python",
     "metadata": {},
     "outputs": [
      {
       "output_type": "stream",
       "stream": "stdout",
       "text": [
        "module GFPoly :\n",
        "  sig\n",
        "    type t = Galois.Primitive.GF2.t array\n",
        "    val zero : t\n",
        "    val one : t\n",
        "    val ( +: ) : t -> t -> t\n",
        "    val ( -: ) : t -> t -> t\n",
        "    val ( *: ) : t -> t -> t\n",
        "    val ( /: ) : t -> t -> t\n",
        "    val to_string : t -> string\n",
        "  end\n"
       ]
      }
     ],
     "prompt_number": 16
    },
    {
     "cell_type": "markdown",
     "metadata": {},
     "source": [
      "Using this representation we can see the underlying structure of $GF(2^4)$ fields as polynomials."
     ]
    },
    {
     "cell_type": "code",
     "collapsed": false,
     "input": [
      "let x : GFPoly.t = [|0; 1; 0; 0|]"
     ],
     "language": "python",
     "metadata": {},
     "outputs": [
      {
       "output_type": "stream",
       "stream": "stdout",
       "text": [
        "val x : GFPoly.t = [|0; 1; 0; 0|]\n"
       ]
      }
     ],
     "prompt_number": 17
    },
    {
     "cell_type": "code",
     "collapsed": false,
     "input": [
      "GFPoly.to_string x"
     ],
     "language": "python",
     "metadata": {},
     "outputs": [
      {
       "output_type": "stream",
       "stream": "stdout",
       "text": [
        "- : string = \"x\"\n"
       ]
      }
     ],
     "prompt_number": 18
    },
    {
     "cell_type": "code",
     "collapsed": false,
     "input": [
      "GFPoly.(to_string (x *: x))"
     ],
     "language": "python",
     "metadata": {},
     "outputs": [
      {
       "output_type": "stream",
       "stream": "stdout",
       "text": [
        "- : string = \"x^2\"\n"
       ]
      }
     ],
     "prompt_number": 19
    },
    {
     "cell_type": "code",
     "collapsed": false,
     "input": [
      "let rec pow = GFPoly.(function\n",
      "    | 0 -> one\n",
      "    | 1 -> x\n",
      "    | _ as n -> x *: pow (n-1))"
     ],
     "language": "python",
     "metadata": {},
     "outputs": [
      {
       "output_type": "stream",
       "stream": "stdout",
       "text": [
        "val pow : int -> GFPoly.t = <fun>\n"
       ]
      }
     ],
     "prompt_number": 20
    },
    {
     "cell_type": "code",
     "collapsed": false,
     "input": [
      "table 15 3 (fun i -> function \n",
      "    | 0 -> \"$x^{\" ^ string_of_int i ^ \"}$\"\n",
      "    | 1 -> \"$\" ^ GFPoly.to_string (pow i) ^ \"$\"\n",
      "    | _ -> X.G.(to_string (X.Gp.pe **: i)))"
     ],
     "language": "python",
     "metadata": {},
     "outputs": [
      {
       "html": [
        "<table><tr><td>$x^{0}$</td><td>$1$</td><td>1</td></tr><tr><td>$x^{1}$</td><td>$x$</td><td>2</td></tr><tr><td>$x^{2}$</td><td>$x^2$</td><td>4</td></tr><tr><td>$x^{3}$</td><td>$x^3$</td><td>8</td></tr><tr><td>$x^{4}$</td><td>$x + 1$</td><td>3</td></tr><tr><td>$x^{5}$</td><td>$x^2 + x$</td><td>6</td></tr><tr><td>$x^{6}$</td><td>$x^3 + x^2$</td><td>12</td></tr><tr><td>$x^{7}$</td><td>$x^3 + x + 1$</td><td>11</td></tr><tr><td>$x^{8}$</td><td>$x^2 + 1$</td><td>5</td></tr><tr><td>$x^{9}$</td><td>$x^3 + x$</td><td>10</td></tr><tr><td>$x^{10}$</td><td>$x^2 + x + 1$</td><td>7</td></tr><tr><td>$x^{11}$</td><td>$x^3 + x^2 + x$</td><td>14</td></tr><tr><td>$x^{12}$</td><td>$x^3 + x^2 + x + 1$</td><td>15</td></tr><tr><td>$x^{13}$</td><td>$x^3 + x^2 + 1$</td><td>13</td></tr><tr><td>$x^{14}$</td><td>$x^3 + 1$</td><td>9</td></tr></table>"
       ],
       "metadata": {},
       "output_type": "display_data"
      },
      {
       "output_type": "stream",
       "stream": "stdout",
       "text": [
        "- : unit = ()\n"
       ]
      }
     ],
     "prompt_number": 21
    },
    {
     "cell_type": "heading",
     "level": 2,
     "metadata": {},
     "source": [
      "Encoding"
     ]
    },
    {
     "cell_type": "markdown",
     "metadata": {},
     "source": [
      "The encoding process takes a **message** of **k** symbols and produces a **codeword** of **n** symbols."
     ]
    },
    {
     "cell_type": "code",
     "collapsed": false,
     "input": [
      "let message = [| 11; 10; 9; 8; 7; 6; 5; 4; 3; 2; 1 |]\n",
      "let () = display_poly message"
     ],
     "language": "python",
     "metadata": {},
     "outputs": [
      {
       "html": [
        "$$x^{10} + 2.x^{9} + 3.x^{8} + 4.x^{7} + 5.x^{6} + 6.x^{5} + 7.x^{4} + 8.x^{3} + 9.x^{2} + 10.x + 11$$"
       ],
       "metadata": {},
       "output_type": "display_data"
      },
      {
       "output_type": "stream",
       "stream": "stdout",
       "text": [
        "val message : int array = [|11; 10; 9; 8; 7; 6; 5; 4; 3; 2; 1|]\n"
       ]
      }
     ],
     "prompt_number": 22
    },
    {
     "cell_type": "code",
     "collapsed": false,
     "input": [
      "let codeword = X.R.encode message\n",
      "let () = display_poly codeword"
     ],
     "language": "python",
     "metadata": {},
     "outputs": [
      {
       "html": [
        "$$x^{14} + 2.x^{13} + 3.x^{12} + 4.x^{11} + 5.x^{10} + 6.x^{9} + 7.x^{8} + 8.x^{7} + 9.x^{6} + 10.x^{5} + 11.x^{4} + 3.x^{3} + 3.x^{2} + 12.x + 12$$"
       ],
       "metadata": {},
       "output_type": "display_data"
      },
      {
       "output_type": "stream",
       "stream": "stdout",
       "text": [
        "val codeword : X.R.poly = [|12; 12; 3; 3; 11; 10; 9; 8; 7; 6; 5; 4; 3; 2; 1|]\n"
       ]
      }
     ],
     "prompt_number": 23
    },
    {
     "cell_type": "markdown",
     "metadata": {},
     "source": [
      "The encoding process is rather simple \n",
      "\n",
      "$$codeword = message.x^{2t} + (message.x^{2t} \\mod generator)$$\n",
      "\n",
      "We can implement it in a few lines of polynomial arithmetic."
     ]
    },
    {
     "cell_type": "code",
     "collapsed": false,
     "input": [
      "let myencode message = \n",
      "    let open X.R.R in\n",
      "    let (%:) a b = snd (a /: b) in (* mod; the remainder of division *)\n",
      "    let message = message *: (x **: (2*t)) in (* shift message *)\n",
      "    message +: (message %: X.R.generator)"
     ],
     "language": "python",
     "metadata": {},
     "outputs": [
      {
       "output_type": "stream",
       "stream": "stdout",
       "text": [
        "val myencode : X.R.R.t -> X.R.R.t = <fun>\n"
       ]
      }
     ],
     "prompt_number": 24
    },
    {
     "cell_type": "code",
     "collapsed": false,
     "input": [
      "let mycodeword = myencode message\n",
      "let () = display_poly mycodeword"
     ],
     "language": "python",
     "metadata": {},
     "outputs": [
      {
       "html": [
        "$$x^{14} + 2.x^{13} + 3.x^{12} + 4.x^{11} + 5.x^{10} + 6.x^{9} + 7.x^{8} + 8.x^{7} + 9.x^{6} + 10.x^{5} + 11.x^{4} + 3.x^{3} + 3.x^{2} + 12.x + 12$$"
       ],
       "metadata": {},
       "output_type": "display_data"
      },
      {
       "output_type": "stream",
       "stream": "stdout",
       "text": [
        "val mycodeword : X.R.R.t =\n",
        "  [|12; 12; 3; 3; 11; 10; 9; 8; 7; 6; 5; 4; 3; 2; 1|]\n"
       ]
      }
     ],
     "prompt_number": 25
    },
    {
     "cell_type": "markdown",
     "metadata": {},
     "source": [
      "It is worth noting that the RS encoder is systematic - that is the orginal message is included in the code word.  The symbols added by the encoder are known as parity symbols."
     ]
    },
    {
     "cell_type": "heading",
     "level": 2,
     "metadata": {},
     "source": [
      "Errors"
     ]
    },
    {
     "cell_type": "markdown",
     "metadata": {},
     "source": [
      "During transmission or storage the codeword may become corrupted by some errors.\n",
      "\n",
      "$$received = codeword + errors$$\n",
      "\n",
      "It is the purpose of the Reed-Solomon decoder to calculate the error polynomial from the received polynomial then\n",
      "\n",
      "$$corrected = received - errors$$\n",
      "\n",
      "For a codeword with $2t$ parity symbols the Reed-Solomon decoder will be able to correct upto $t$ symbol errors."
     ]
    },
    {
     "cell_type": "code",
     "collapsed": false,
     "input": [
      "let error = [| 0; 0; 2; 0; 0; 0; 0; 0; 0; 13; 0; 0; 0; 0; 0 |]\n",
      "let () = display_poly error"
     ],
     "language": "python",
     "metadata": {},
     "outputs": [
      {
       "html": [
        "$$13.x^{9} + 2.x^{2}$$"
       ],
       "metadata": {},
       "output_type": "display_data"
      },
      {
       "output_type": "stream",
       "stream": "stdout",
       "text": [
        "val error : int array = [|0; 0; 2; 0; 0; 0; 0; 0; 0; 13; 0; 0; 0; 0; 0|]\n"
       ]
      }
     ],
     "prompt_number": 26
    },
    {
     "cell_type": "code",
     "collapsed": false,
     "input": [
      "let received = X.R.R.(codeword +: error)\n",
      "let () = display_poly received"
     ],
     "language": "python",
     "metadata": {},
     "outputs": [
      {
       "html": [
        "$$x^{14} + 2.x^{13} + 3.x^{12} + 4.x^{11} + 5.x^{10} + 11.x^{9} + 7.x^{8} + 8.x^{7} + 9.x^{6} + 10.x^{5} + 11.x^{4} + 3.x^{3} + x^{2} + 12.x + 12$$"
       ],
       "metadata": {},
       "output_type": "display_data"
      },
      {
       "output_type": "stream",
       "stream": "stdout",
       "text": [
        "val received : X.R.R.t = [|12; 12; 1; 3; 11; 10; 9; 8; 7; 11; 5; 4; 3; 2; 1|]\n"
       ]
      }
     ],
     "prompt_number": 27
    },
    {
     "cell_type": "heading",
     "level": 2,
     "metadata": {},
     "source": [
      "Decoding"
     ]
    },
    {
     "cell_type": "markdown",
     "metadata": {},
     "source": [
      "We start by running the decoder on our example."
     ]
    },
    {
     "cell_type": "code",
     "collapsed": false,
     "input": [
      "let corrected = X.R.decode received\n",
      "let () = display_poly corrected\n",
      "let okay = corrected = codeword"
     ],
     "language": "python",
     "metadata": {},
     "outputs": [
      {
       "html": [
        "$$x^{14} + 2.x^{13} + 3.x^{12} + 4.x^{11} + 5.x^{10} + 6.x^{9} + 7.x^{8} + 8.x^{7} + 9.x^{6} + 10.x^{5} + 11.x^{4} + 3.x^{3} + 3.x^{2} + 12.x + 12$$"
       ],
       "metadata": {},
       "output_type": "display_data"
      },
      {
       "output_type": "stream",
       "stream": "stdout",
       "text": [
        "val corrected : X.R.poly =\n",
        "  [|12; 12; 3; 3; 11; 10; 9; 8; 7; 6; 5; 4; 3; 2; 1|]\n",
        "val okay : bool = true\n"
       ]
      }
     ],
     "prompt_number": 28
    },
    {
     "cell_type": "markdown",
     "metadata": {},
     "source": [
      "As we see the decoder has taken the (corrupt) received poly and recovered the original codeword.\n",
      "\n",
      "Although I shall avoid a technical description of the maths involved in decoding (if you're interested check out that BBC white paper), I will show how the decoder is put together from the functions in the `Rs` module.\n",
      "\n",
      "The first step is to calculate the syndrome vector.  This is done by evalulating the received polynomial (here we use horners method) at each of the roots of the generator polynomial (of which there are $2t$)."
     ]
    },
    {
     "cell_type": "code",
     "collapsed": false,
     "input": [
      "let syndromes = Array.init (2*t) X.R.(fun i -> horner received (root i))"
     ],
     "language": "python",
     "metadata": {},
     "outputs": [
      {
       "output_type": "stream",
       "stream": "stdout",
       "text": [
        "val syndromes : X.R.elt array = [|15; 3; 4; 12|]\n"
       ]
      }
     ],
     "prompt_number": 29
    },
    {
     "cell_type": "markdown",
     "metadata": {},
     "source": [
      "Because the roots of the generator are also the roots of the codeword, if any of these values are non-zero then we know there are errors to be corrected, as is the case here.\n",
      "\n",
      "We now have a choice on how we will solve the key equations - Petersons' method (matrix inversion), Berlekamp-Massey (black magic) or Euclids algorithm (polynomial factorisation).  We'll choose the later as it's easiest to understand, though implementations of all methods are provided.  From the syndromes this will produce the error locator and error evaluator polynomials."
     ]
    },
    {
     "cell_type": "code",
     "collapsed": false,
     "input": [
      "let v, l = X.R.euclid syndromes"
     ],
     "language": "python",
     "metadata": {},
     "outputs": [
      {
       "output_type": "stream",
       "stream": "stdout",
       "text": [
        "val v : X.R.poly = [|14; 3|]\n",
        "val l : X.R.poly = [|9; 7; 7|]\n"
       ]
      }
     ],
     "prompt_number": 30
    },
    {
     "cell_type": "markdown",
     "metadata": {},
     "source": [
      "Chien search finds the error locations."
     ]
    },
    {
     "cell_type": "code",
     "collapsed": false,
     "input": [
      "let el = X.R.chien l\n",
      "let el' = List.map X.R.error_location el (* compute actual locations *)"
     ],
     "language": "python",
     "metadata": {},
     "outputs": [
      {
       "output_type": "stream",
       "stream": "stdout",
       "text": [
        "val el : X.R.loc list = [6; 13]\n",
        "val el' : int list = [9; 2]\n"
       ]
      }
     ],
     "prompt_number": 31
    },
    {
     "cell_type": "markdown",
     "metadata": {},
     "source": [
      "Forneys algorithm solves for the error values."
     ]
    },
    {
     "cell_type": "code",
     "collapsed": false,
     "input": [
      "let ev = List.map (X.R.forney v l) el"
     ],
     "language": "python",
     "metadata": {},
     "outputs": [
      {
       "output_type": "stream",
       "stream": "stdout",
       "text": [
        "val ev : X.R.elt list = [13; 2]\n"
       ]
      }
     ],
     "prompt_number": 32
    },
    {
     "cell_type": "markdown",
     "metadata": {},
     "source": [
      "Using `el` and `ev` we form the error polynomial"
     ]
    },
    {
     "cell_type": "code",
     "collapsed": false,
     "input": [
      "let e = X.R.error ev el"
     ],
     "language": "python",
     "metadata": {},
     "outputs": [
      {
       "output_type": "stream",
       "stream": "stdout",
       "text": [
        "val e : X.R.poly = [|0; 0; 2; 0; 0; 0; 0; 0; 0; 13|]\n"
       ]
      }
     ],
     "prompt_number": 33
    },
    {
     "cell_type": "markdown",
     "metadata": {},
     "source": [
      "And finally it can be added to the received polynomial to form the corrected polynomial."
     ]
    },
    {
     "cell_type": "code",
     "collapsed": false,
     "input": [
      "let corrected = X.R.R.(received +: e)\n",
      "let () = display_poly corrected"
     ],
     "language": "python",
     "metadata": {},
     "outputs": [
      {
       "html": [
        "$$x^{14} + 2.x^{13} + 3.x^{12} + 4.x^{11} + 5.x^{10} + 6.x^{9} + 7.x^{8} + 8.x^{7} + 9.x^{6} + 10.x^{5} + 11.x^{4} + 3.x^{3} + 3.x^{2} + 12.x + 12$$"
       ],
       "metadata": {},
       "output_type": "display_data"
      },
      {
       "output_type": "stream",
       "stream": "stdout",
       "text": [
        "val corrected : X.R.R.t = [|12; 12; 3; 3; 11; 10; 9; 8; 7; 6; 5; 4; 3; 2; 1|]\n"
       ]
      }
     ],
     "prompt_number": 34
    }
   ],
   "metadata": {}
  }
 ]
}